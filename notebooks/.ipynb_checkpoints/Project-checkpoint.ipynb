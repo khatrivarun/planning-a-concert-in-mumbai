{
 "cells": [
  {
   "cell_type": "markdown",
   "id": "247debe0-b61c-4102-b0bd-35774fc3adf3",
   "metadata": {},
   "source": [
    "# Planning A Concert In Mumbai"
   ]
  },
  {
   "cell_type": "markdown",
   "id": "bef665bb-55ce-40f2-ae9b-d428e354c962",
   "metadata": {},
   "source": [
    "## 1. Introduction/Business Problem"
   ]
  },
  {
   "cell_type": "markdown",
   "id": "b7351c07-4ef0-4080-b8ea-54c3f048af62",
   "metadata": {},
   "source": [
    "Architects is a well known UK metal band who wants to play a show in India, specifically in Mumbai owing to its huge population and big fan following from the city itself. We have been instructed as an agency to provide them with the following details:\n",
    "\n",
    " - Venues\n",
    " - Accomodation\n",
    " - Advertising Agencies\n",
    " - Travel Agencies\n",
    " - Main Attractions Recommendations\n",
    " \n",
    "Please note that cluster analysis will be done on the first four categories of data to come up with a good combination of selections for the band to choose from"
   ]
  },
  {
   "cell_type": "markdown",
   "id": "5334ca8e-25f4-4c2a-838a-b0c24cdef87d",
   "metadata": {},
   "source": [
    "## 2. Data Description"
   ]
  },
  {
   "cell_type": "markdown",
   "id": "ab22360b-ec96-4826-8fef-12b79a91a8d5",
   "metadata": {},
   "source": [
    "All the data will be fetched from the Foursquare API. The rough data format which will be used is:\n",
    "\n",
    " - Name\n",
    " - Latitude\n",
    " - Longitude\n",
    " - Category"
   ]
  }
 ],
 "metadata": {
  "kernelspec": {
   "display_name": "Python 3",
   "language": "python",
   "name": "python3"
  },
  "language_info": {
   "codemirror_mode": {
    "name": "ipython",
    "version": 3
   },
   "file_extension": ".py",
   "mimetype": "text/x-python",
   "name": "python",
   "nbconvert_exporter": "python",
   "pygments_lexer": "ipython3",
   "version": "3.7.9"
  }
 },
 "nbformat": 4,
 "nbformat_minor": 5
}
